{
 "cells": [
  {
   "cell_type": "code",
   "execution_count": null,
   "id": "528e6ac7-efd8-4b5e-9da5-9cc971b9b4b9",
   "metadata": {},
   "outputs": [],
   "source": [
    "%% bash\n",
    "\n",
    "for file in `find ../claimed/component-library/ -name \"*.ipynb\"`\n",
    "do \n",
    "    echo $file; echo `echo $file |sed 's/.ipynb/.yaml/g'`; .ipython generate_kfp_component.ipynb $file `echo $file |sed 's/.ipynb/.yaml/g'`\n",
    "done"
   ]
  }
 ],
 "metadata": {
  "kernelspec": {
   "display_name": "Python 3 (ipykernel)",
   "language": "python",
   "name": "python3"
  },
  "language_info": {
   "codemirror_mode": {
    "name": "ipython",
    "version": 3
   },
   "file_extension": ".py",
   "mimetype": "text/x-python",
   "name": "python",
   "nbconvert_exporter": "python",
   "pygments_lexer": "ipython3",
   "version": "3.10.6"
  }
 },
 "nbformat": 4,
 "nbformat_minor": 5
}
