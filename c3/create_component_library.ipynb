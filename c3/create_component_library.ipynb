{
 "cells": [
  {
   "cell_type": "code",
   "execution_count": null,
   "id": "a972c366-03a3-4d79-b917-01592f594eac",
   "metadata": {},
   "outputs": [],
   "source": [
    "import os\n",
    "import shutil"
   ]
  },
  {
   "cell_type": "code",
   "execution_count": null,
   "id": "728ce188-e84a-4e5b-953b-cff00c95d8d8",
   "metadata": {},
   "outputs": [],
   "source": [
    "os.scandir('../component-library/')"
   ]
  },
  {
   "cell_type": "code",
   "execution_count": null,
   "id": "528e6ac7-efd8-4b5e-9da5-9cc971b9b4b9",
   "metadata": {
    "scrolled": true,
    "tags": []
   },
   "outputs": [],
   "source": [
    "%%bash\n",
    "export version=0.1i\n",
    "for file in `find ../component-library/ -name \"*.ipynb\" |grep -vi test |grep -v checkpoints`\n",
    "do \n",
    "    ipython generate_kfp_component.ipynb $file $version 2>> log.txt >> log.txt\n",
    "    echo \"Status:\"$file:$? >> log.txt\n",
    "done"
   ]
  },
  {
   "cell_type": "code",
   "execution_count": null,
   "id": "5303c806-b63a-4392-b97f-5bb962ae8f4e",
   "metadata": {
    "scrolled": true,
    "tags": []
   },
   "outputs": [],
   "source": [
    "%%bash\n",
    "export version=0.2i\n",
    "ipython generate_kfp_component.ipynb ../component-library/input/input-url.ipynb $version\n"
   ]
  },
  {
   "cell_type": "code",
   "execution_count": null,
   "id": "ced8585b-2208-4b77-b4ea-c629da4c5834",
   "metadata": {
    "scrolled": true,
    "tags": []
   },
   "outputs": [],
   "source": [
    "%%bash\n",
    "export version=0.2m\n",
    "ipython generate_kfp_component.ipynb ../component-library/transform/spark-json-to-parquet.ipynb $version\n"
   ]
  },
  {
   "cell_type": "code",
   "execution_count": null,
   "id": "fe9ecd44-7ba2-4077-918b-5b369e6da32c",
   "metadata": {
    "scrolled": true,
    "tags": []
   },
   "outputs": [],
   "source": [
    "%%bash\n",
    "export version=0.2n\n",
    "ipython generate_kfp_component.ipynb ../component-library/output/upload-to-cos.ipynb $version\n",
    "\n"
   ]
  },
  {
   "cell_type": "code",
   "execution_count": null,
   "id": "2b7a758f-a293-4fa2-8e3f-a0e8557369b9",
   "metadata": {},
   "outputs": [],
   "source": []
  }
 ],
 "metadata": {
  "kernelspec": {
   "display_name": "Python 3 (ipykernel)",
   "language": "python",
   "name": "python3"
  },
  "language_info": {
   "codemirror_mode": {
    "name": "ipython",
    "version": 3
   },
   "file_extension": ".py",
   "mimetype": "text/x-python",
   "name": "python",
   "nbconvert_exporter": "python",
   "pygments_lexer": "ipython3",
   "version": "3.10.6"
  }
 },
 "nbformat": 4,
 "nbformat_minor": 5
}
