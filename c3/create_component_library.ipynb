{
 "cells": [
  {
   "cell_type": "code",
   "execution_count": null,
   "id": "a972c366-03a3-4d79-b917-01592f594eac",
   "metadata": {},
   "outputs": [],
   "source": [
    "import os\n",
    "import shutil"
   ]
  },
  {
   "cell_type": "code",
   "execution_count": null,
   "id": "728ce188-e84a-4e5b-953b-cff00c95d8d8",
   "metadata": {},
   "outputs": [],
   "source": [
    "os.scandir('../component-library/')"
   ]
  },
  {
   "cell_type": "code",
   "execution_count": 2,
   "id": "528e6ac7-efd8-4b5e-9da5-9cc971b9b4b9",
   "metadata": {
    "scrolled": true,
    "tags": []
   },
   "outputs": [],
   "source": [
    "%%bash\n",
    "\n",
    "for file in `find ../component-library/ -name \"*.ipynb\" |grep -vi test |grep -v checkpoints`\n",
    "do \n",
    "    ipython generate_kfp_component.ipynb $file 2>> log.txt >> log.txt\n",
    "    echo \"Status:\"$file:$? >> log.txt\n",
    "done"
   ]
  },
  {
   "cell_type": "code",
   "execution_count": 1,
   "id": "5303c806-b63a-4392-b97f-5bb962ae8f4e",
   "metadata": {},
   "outputs": [
    {
     "name": "stdout",
     "output_type": "stream",
     "text": [
      "\u001b[22;0t\u001b]0;IPython: claimed/c3\u0007input-url\n",
      "This component reads a file from a HTTP(s) source via wget\n",
      "{'url': ('url of souce', 'String', None), 'data_dir': ('temporal data storage for local execution', 'String', \" '../../data/'\")}\n",
      "{'output_data': ('path and file name for output', 'String', \" 'data.csv'\")}\n",
      "['pip install  wget==3.2']\n",
      "../component-library/input/input-url.ipynb\n",
      "[NbConvertApp] Converting notebook ../component-library/input/input-url.ipynb to script\n",
      "[NbConvertApp] Writing 1556 bytes to ../component-library/input/input-url.py\n",
      "FROM registry.access.redhat.com/ubi8/python-39\n",
      "RUN pip install  wget==3.2\n",
      "ADD input-url.py .\n",
      "ENTRYPOINT [\"python\", \"input-url.py\"]\n",
      "Sending build context to Docker daemon  338.4kB\n",
      "Step 1/4 : FROM registry.access.redhat.com/ubi8/python-39\n",
      " ---> 54ab5aa3f6b8\n",
      "Step 2/4 : RUN pip install  wget==3.2\n",
      " ---> Using cache\n",
      " ---> bf754be72c4b\n",
      "Step 3/4 : ADD input-url.py .\n",
      " ---> Using cache\n",
      " ---> 6290b9207886\n",
      "Step 4/4 : ENTRYPOINT [\"python\", \"input-url.py\"]\n",
      " ---> Using cache\n",
      " ---> 7da1767439bb\n",
      "Successfully built 7da1767439bb\n",
      "Successfully tagged claimed-input-url:latest\n",
      "Using default tag: latest\n",
      "The push refers to repository [docker.io/romeokienzler/claimed-input-url]\n",
      "\n",
      "\u001b[1Ba073756c: Preparing \n",
      "\u001b[1Beb90d5b8: Preparing \n",
      "\u001b[1Ba0c9fb84: Preparing \n",
      "\u001b[1B12ade9b7: Preparing \n",
      "\u001b[1B45f59bfc: Preparing \n",
      "\u001b[1Bc6aaa811: Preparing \n",
      "\u001b[2Bc6aaa811: Layer already exists A\u001b[2K\u001b[1A\u001b[2Klatest: digest: sha256:3b0e22f829f2aa24b9582ab66151c1c23029c2d1992de7803b6fb7fac78b2927 size: 1790\n",
      "name: input-url\n",
      "description: This component reads a file from a HTTP(s) source via wget\n",
      "\n",
      "inputs:\n",
      "- {name: url, type: String, description: 'url of souce'}\n",
      "- {name: data_dir, type: String, description: 'temporal data storage for local execution'}\n",
      "\n",
      "\n",
      "outputs:\n",
      "- {name: output_data, type: String, description: 'path and file name for output'}\n",
      "\n",
      "\n",
      "implementation:\n",
      "    container:\n",
      "        image: romeokienzler/claimed-input-url\n",
      "        command:\n",
      "        - sh\n",
      "        - -ec\n",
      "        - |\n",
      "          python ./input-url.py output_data=\"$0\" url=\"$1\" data_dir=\"$2\" \n",
      "        - {outputPath: output_data}\n",
      "        - {inputValue: url}\n",
      "        - {inputValue: data_dir}\n",
      "\n"
     ]
    }
   ],
   "source": [
    "!ipython generate_kfp_component.ipynb ../component-library/input/input-url.ipynb\n"
   ]
  },
  {
   "cell_type": "code",
   "execution_count": null,
   "id": "ced8585b-2208-4b77-b4ea-c629da4c5834",
   "metadata": {},
   "outputs": [],
   "source": []
  }
 ],
 "metadata": {
  "kernelspec": {
   "display_name": "Python 3 (ipykernel)",
   "language": "python",
   "name": "python3"
  },
  "language_info": {
   "codemirror_mode": {
    "name": "ipython",
    "version": 3
   },
   "file_extension": ".py",
   "mimetype": "text/x-python",
   "name": "python",
   "nbconvert_exporter": "python",
   "pygments_lexer": "ipython3",
   "version": "3.10.6"
  }
 },
 "nbformat": 4,
 "nbformat_minor": 5
}
