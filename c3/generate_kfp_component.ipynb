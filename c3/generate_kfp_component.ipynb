{
 "cells": [
  {
   "cell_type": "code",
   "execution_count": 23,
   "id": "c08007ab-0366-459b-8d61-695e003c3ce5",
   "metadata": {},
   "outputs": [],
   "source": [
    "from notebook import Notebook\n",
    "nb = Notebook('../component-library/input/input-url.ipynb')"
   ]
  },
  {
   "cell_type": "code",
   "execution_count": 24,
   "id": "40670316-3b8f-41a5-99b5-12c9162627f1",
   "metadata": {},
   "outputs": [],
   "source": [
    "name = nb.get_name()\n",
    "description = nb.get_description()\n",
    "inputs = nb.get_inputs()\n",
    "outputs = nb.get_outputs()\n",
    "requirements = nb.get_requirements()"
   ]
  },
  {
   "cell_type": "code",
   "execution_count": 25,
   "id": "92c0f904-8afd-4130-8c27-ac955fb61266",
   "metadata": {},
   "outputs": [
    {
     "name": "stdout",
     "output_type": "stream",
     "text": [
      "Input URL\n",
      "This component reads a file from a HTTP(s) source via wget\n",
      "{'url': ('url of souce', 'String', None), 'data_dir': ('temporal data storage for local execution', 'String', \" '../../data/'\")}\n",
      "{'output_data': ('path and file name for output', 'String', \" 'data.csv'\")}\n",
      "['pip install  wget==3.2']\n"
     ]
    }
   ],
   "source": [
    "print(name)\n",
    "print(description)\n",
    "print(inputs)\n",
    "print(outputs)\n",
    "print(requirements)"
   ]
  },
  {
   "cell_type": "code",
   "execution_count": 26,
   "id": "fa5c5b41-1637-456b-9193-fdd7c680c490",
   "metadata": {},
   "outputs": [],
   "source": [
    "requirements_docker = list(map(lambda s: 'RUN '+s, requirements))"
   ]
  },
  {
   "cell_type": "code",
   "execution_count": 27,
   "id": "21beb828-c09b-42c0-9b89-94a143d55a03",
   "metadata": {},
   "outputs": [
    {
     "data": {
      "text/plain": [
       "'FROM registry.access.redhat.com/ubi8/python-39\\nRUN pip install  wget==3.2\\nADD anomaly-score-unsupervised.py .\\nENTRYPOINT [\"python\", \"anomaly-score-unsupervised.py\"]\\n'"
      ]
     },
     "execution_count": 27,
     "metadata": {},
     "output_type": "execute_result"
    }
   ],
   "source": [
    "dockerfile = \"\"\"FROM registry.access.redhat.com/ubi8/python-39\n",
    "{}\n",
    "ADD anomaly-score-unsupervised.py .\n",
    "ENTRYPOINT [\"python\", \"anomaly-score-unsupervised.py\"]\n",
    "\"\"\".format(\n",
    "'\\n'.join(requirements_docker)\n",
    ")\n",
    "dockerfile"
   ]
  },
  {
   "cell_type": "code",
   "execution_count": null,
   "id": "9168a5bd-76a5-4ae4-baf9-018397fa1d80",
   "metadata": {},
   "outputs": [],
   "source": [
    "from kfp_component import  KfpComponent\n",
    "from notebook import Notebook\n",
    "from string import Template\n",
    "from io import StringIO\n",
    "\n",
    "\n",
    "class KfpComponentBuilder():\n",
    "    def __init__(self, notebook_url : str, source_uri : str, source_file_name : str):\n",
    "        nb = Notebook(notebook_url)\n",
    "        self.source_uri = source_uri\n",
    "        self.source_file_name = source_file_name\n",
    "        self.kfp = KfpComponent(nb)\n",
    "\n",
    "    def get_inputs(self):\n",
    "        with StringIO() as inputs_str:\n",
    "            for input_key, input_value in self.kfp.get_inputs().items():\n",
    "                t = Template(\"- {name: $name, type: $type, description: '$description'}\")\n",
    "                print(t.substitute(name=input_key, type=input_value[1], description=input_value[0]), file=inputs_str)\n",
    "            return inputs_str.getvalue()\n",
    "\n",
    "\n",
    "    def get_input_for_implementation(self):\n",
    "        with StringIO() as inputs_str:\n",
    "            for input_key, input_value in self.kfp.get_inputs().items():\n",
    "                t = Template(\"        - {inputValue: $name}\")\n",
    "                print(t.substitute(name=input_key), file=inputs_str)\n",
    "            return inputs_str.getvalue()    \n",
    "\n",
    "\n",
    "    def get_outputs(self):\n",
    "        with StringIO() as outputs_str:\n",
    "            assert len(self.kfp.get_outputs()) == 1, 'exactly one output currently supported: '+ str((len(self.kfp.get_outputs())))\n",
    "            for output_key, output_value in self.kfp.get_outputs().items():\n",
    "                t = Template(\"- {name: $name, type: $type, description: '$description'}\")\n",
    "                print(t.substitute(name=output_key, type=output_value[1], description=output_value[0]), file=outputs_str)\n",
    "            return outputs_str.getvalue()\n",
    "\n",
    "\n",
    "    def get_output_name(self):\n",
    "        for output_key, output_value in self.kfp.get_outputs().items():\n",
    "            return output_key\n",
    "\n",
    "    def get_parameter_list(self):\n",
    "        return_value = str()\n",
    "        index = 0\n",
    "        for output_key, output_value in self.kfp.get_outputs().items():\n",
    "            return_value = return_value + output_key + '=\"$' + str(index) + '\" '\n",
    "            index = index + 1\n",
    "        for input_key, input_value in self.kfp.get_inputs().items():\n",
    "            return_value = return_value + input_key + '=\"$' + str(index) + '\" '\n",
    "            index = index + 1\n",
    "        return return_value                 \n",
    "\n",
    "        \n",
    "\n",
    "    def get_yaml(self):\n",
    "        t = Template('''name: $name\n",
    "description: $description\n",
    "\n",
    "inputs:\n",
    "$inputs\n",
    "\n",
    "outputs:\n",
    "$outputs\n",
    "\n",
    "implementation:\n",
    "    container:\n",
    "        image: $container_uri\n",
    "        command:\n",
    "        - sh\n",
    "        - -ec\n",
    "        - |\n",
    "          $mkdir\n",
    "          wget $source_uri\n",
    "          $call\n",
    "        - {outputPath: $outputPath}\n",
    "$input_for_implementation''')\n",
    "        return t.substitute(\n",
    "            name=self.kfp.get_name(),\n",
    "            description=self.kfp.get_description(),\n",
    "            inputs=self.get_inputs(),\n",
    "            outputs=self.get_outputs(),\n",
    "            container_uri=self.kfp.get_container_uri(),\n",
    "            outputPath=self.get_output_name(),\n",
    "            input_for_implementation=self.get_input_for_implementation(),\n",
    "            mkdir=\"mkdir -p `echo $0 |sed -e 's/\\/[a-zA-Z0-9]*$//'`\",\n",
    "            source_uri=self.source_uri,\n",
    "            call='ipython ' + self.source_file_name + ' ' + self.get_parameter_list()\n",
    "        )\n"
   ]
  },
  {
   "cell_type": "code",
   "execution_count": null,
   "id": "ef546dce-efca-421b-a7f1-4313c9e44c56",
   "metadata": {},
   "outputs": [],
   "source": []
  }
 ],
 "metadata": {
  "kernelspec": {
   "display_name": "Python 3 (ipykernel)",
   "language": "python",
   "name": "python3"
  },
  "language_info": {
   "codemirror_mode": {
    "name": "ipython",
    "version": 3
   },
   "file_extension": ".py",
   "mimetype": "text/x-python",
   "name": "python",
   "nbconvert_exporter": "python",
   "pygments_lexer": "ipython3",
   "version": "3.10.6"
  }
 },
 "nbformat": 4,
 "nbformat_minor": 5
}
