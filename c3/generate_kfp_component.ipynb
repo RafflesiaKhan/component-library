{
 "cells": [
  {
   "cell_type": "code",
   "execution_count": null,
   "id": "c08007ab-0366-459b-8d61-695e003c3ce5",
   "metadata": {},
   "outputs": [],
   "source": [
    "from notebook import Notebook\n",
    "import os\n",
    "import shutil\n",
    "from string import Template\n",
    "import sys\n",
    "from io import StringIO\n"
   ]
  },
  {
   "cell_type": "code",
   "execution_count": null,
   "id": "0a0b99ea-4fdd-4f65-bb3d-1057c5eb5c05",
   "metadata": {},
   "outputs": [],
   "source": [
    "if len(sys.argv)<2:\n",
    "    print('TODO gracefully shutdown')\n",
    "\n",
    "notebook_path = sys.argv[1]\n",
    "version = sys.argv[2]\n",
    "\n",
    "#notebook_path = os.environ.get('notebook_path','../component-library/input/input-url.ipynb')\n",
    "\n"
   ]
  },
  {
   "cell_type": "code",
   "execution_count": null,
   "id": "141b9a18-c302-4360-bfec-ac2c5b29fad9",
   "metadata": {},
   "outputs": [],
   "source": [
    "#version=\"0.1n\"\n",
    "#notebook_path = '../component-library/input/input-url.ipynb'"
   ]
  },
  {
   "cell_type": "code",
   "execution_count": null,
   "id": "055a924f-ae8f-40c4-ab5c-91f136cee8ab",
   "metadata": {},
   "outputs": [],
   "source": [
    "nb = Notebook(notebook_path)"
   ]
  },
  {
   "cell_type": "code",
   "execution_count": null,
   "id": "40670316-3b8f-41a5-99b5-12c9162627f1",
   "metadata": {},
   "outputs": [],
   "source": [
    "name = nb.get_name()\n",
    "description = nb.get_description() + \" CLAIMED v\"+ version\n",
    "inputs = nb.get_inputs()\n",
    "outputs = nb.get_outputs()\n",
    "requirements = nb.get_requirements()"
   ]
  },
  {
   "cell_type": "code",
   "execution_count": null,
   "id": "92c0f904-8afd-4130-8c27-ac955fb61266",
   "metadata": {},
   "outputs": [],
   "source": [
    "print(name)\n",
    "print(description)\n",
    "print(inputs)\n",
    "print(outputs)\n",
    "print(requirements)"
   ]
  },
  {
   "cell_type": "code",
   "execution_count": null,
   "id": "0604b83b-88c5-4fa7-a2bb-b452d80e2a61",
   "metadata": {},
   "outputs": [],
   "source": [
    "!echo {notebook_path}"
   ]
  },
  {
   "cell_type": "code",
   "execution_count": null,
   "id": "e271b688-b307-4bc9-803c-4c8bed0761ae",
   "metadata": {},
   "outputs": [],
   "source": [
    "#!jupyter nbconvert --to script `echo {notebook_path}` "
   ]
  },
  {
   "cell_type": "code",
   "execution_count": null,
   "id": "5c0fcb61-43e3-4711-919c-078da0a02e72",
   "metadata": {},
   "outputs": [],
   "source": [
    "#target_code = notebook_path.replace('.ipynb','.py').split('/')[-1:][0]\n",
    "target_code = notebook_path.split('/')[-1:][0]\n",
    "\n",
    "shutil.copy(notebook_path,target_code)"
   ]
  },
  {
   "cell_type": "code",
   "execution_count": null,
   "id": "f67a914e-70b2-4ab6-ab37-121195b59ec4",
   "metadata": {},
   "outputs": [],
   "source": [
    "import re\n",
    "\n",
    "file = target_code\n",
    "\n",
    "# they can be also raw string and regex\n",
    "textToSearch = r'!pip' \n",
    "textToReplace = '#!pip'\n",
    "\n",
    "# read and replace\n",
    "with open(file, 'r') as fd:\n",
    "    text, counter = re.subn(textToSearch, textToReplace, fd.read(), re.I)\n",
    "\n",
    "# check if there is at least a  match\n",
    "if counter > 0:\n",
    "    # edit the file\n",
    "    with open(file, 'w') as fd:\n",
    "        fd.write(text)"
   ]
  },
  {
   "cell_type": "code",
   "execution_count": null,
   "id": "fa5c5b41-1637-456b-9193-fdd7c680c490",
   "metadata": {},
   "outputs": [],
   "source": [
    "requirements_docker = list(map(lambda s: 'RUN '+s, requirements))"
   ]
  },
  {
   "cell_type": "code",
   "execution_count": null,
   "id": "21beb828-c09b-42c0-9b89-94a143d55a03",
   "metadata": {},
   "outputs": [],
   "source": [
    "docker_file = \"\"\"FROM registry.access.redhat.com/ubi8/python-39\n",
    "USER root\n",
    "RUN dnf install -y java-11-openjdk\n",
    "USER default\n",
    "RUN pip install ipython==8.6.0 nbformat==5.7.0\n",
    "{}\n",
    "ADD {} /opt/app-root/src/ \n",
    "\"\"\".format(\n",
    "    '\\n'.join(requirements_docker),\n",
    "    target_code,\n",
    "    target_code\n",
    ")\n",
    "with open(\"Dockerfile\", \"w\") as text_file:\n",
    "    text_file.write(docker_file)\n",
    "!cat Dockerfile"
   ]
  },
  {
   "cell_type": "code",
   "execution_count": null,
   "id": "db44dd53-ee2f-497a-b9a0-e92cfcfd7ef7",
   "metadata": {
    "scrolled": true,
    "tags": []
   },
   "outputs": [],
   "source": [
    "!docker build -t `echo claimed-{name}:{version}` .\n",
    "!docker tag  `echo claimed-{name}:{version}` `echo romeokienzler/claimed-{name}:{version}`\n",
    "!docker push `echo romeokienzler/claimed-{name}:{version}`"
   ]
  },
  {
   "cell_type": "code",
   "execution_count": null,
   "id": "8747a2f1-ed15-41ea-b864-d4482e751eb5",
   "metadata": {},
   "outputs": [],
   "source": [
    "def get_inputs():\n",
    "    with StringIO() as inputs_str:\n",
    "        for input_key, input_value in inputs.items():\n",
    "            t = Template(\"- {name: $name, type: $type, description: '$description'}\")\n",
    "            print(t.substitute(name=input_key, type=input_value[1], description=input_value[0]), file=inputs_str)\n",
    "        return inputs_str.getvalue()"
   ]
  },
  {
   "cell_type": "code",
   "execution_count": null,
   "id": "d0e5e56a-0e65-42b3-98d2-cd410fcd52ab",
   "metadata": {},
   "outputs": [],
   "source": [
    "def get_outputs():\n",
    "    with StringIO() as outputs_str:\n",
    "        assert len(outputs) == 1, 'exactly one output currently supported: '+ str((len(outputs.items())))\n",
    "        for output_key, output_value in outputs.items():\n",
    "            t = Template(\"- {name: $name, type: $type, description: '$description'}\")\n",
    "            print(t.substitute(name=output_key, type=output_value[1], description=output_value[0]), file=outputs_str)\n",
    "        return outputs_str.getvalue()\n"
   ]
  },
  {
   "cell_type": "code",
   "execution_count": null,
   "id": "27608ff6-60b7-4921-b360-4cafb6d8b11d",
   "metadata": {},
   "outputs": [],
   "source": [
    "def get_output_name():\n",
    "    for output_key, output_value in outputs.items():\n",
    "        return output_key"
   ]
  },
  {
   "cell_type": "code",
   "execution_count": null,
   "id": "9b44cadc-b5e7-4cef-8ebd-f3bcf5a56328",
   "metadata": {},
   "outputs": [],
   "source": [
    "\n",
    "def get_input_for_implementation():\n",
    "    with StringIO() as inputs_str:\n",
    "        for input_key, input_value in inputs.items():\n",
    "            t = Template(\"        - {inputValue: $name}\")\n",
    "            print(t.substitute(name=input_key), file=inputs_str)\n",
    "        return inputs_str.getvalue()    "
   ]
  },
  {
   "cell_type": "code",
   "execution_count": null,
   "id": "dd6c276c-1e4d-4212-a7b8-469a0310adea",
   "metadata": {},
   "outputs": [],
   "source": [
    "def get_parameter_list():\n",
    "    return_value = str()\n",
    "    index = 0\n",
    "    for output_key, output_value in outputs.items():\n",
    "        return_value = return_value + output_key + '=\"$' + str(index) + '\" '\n",
    "        index = index + 1\n",
    "    for input_key, input_value in inputs.items():\n",
    "        return_value = return_value + input_key + '=\"$' + str(index) + '\" '\n",
    "        index = index + 1\n",
    "    return return_value      "
   ]
  },
  {
   "cell_type": "code",
   "execution_count": null,
   "id": "9168a5bd-76a5-4ae4-baf9-018397fa1d80",
   "metadata": {},
   "outputs": [],
   "source": [
    "\n",
    "t = Template('''name: $name\n",
    "description: $description\n",
    "\n",
    "inputs:\n",
    "$inputs\n",
    "\n",
    "outputs:\n",
    "$outputs\n",
    "\n",
    "implementation:\n",
    "    container:\n",
    "        image: $container_uri:$version\n",
    "        command:\n",
    "        - sh\n",
    "        - -ec\n",
    "        - |\n",
    "          ipython $call\n",
    "        - {outputPath: $outputPath}\n",
    "$input_for_implementation''')\n",
    "yaml = t.substitute(\n",
    "            name=name,\n",
    "            description=description,\n",
    "            inputs=get_inputs(),\n",
    "            outputs=get_outputs(),\n",
    "            container_uri=f\"romeokienzler/claimed-{name}\",\n",
    "            version=version,\n",
    "            outputPath=get_output_name(),\n",
    "            input_for_implementation=get_input_for_implementation(),\n",
    "            call=f'./{target_code} {get_parameter_list()}' \n",
    "        )\n",
    "print(yaml)"
   ]
  },
  {
   "cell_type": "code",
   "execution_count": null,
   "id": "320e6d14-9584-4154-a225-437f6026fe4b",
   "metadata": {},
   "outputs": [],
   "source": [
    "target_yaml_path = notebook_path.replace('.ipynb','.yaml')\n",
    "\n",
    "with open(target_yaml_path, \"w\") as text_file:\n",
    "    text_file.write(yaml)"
   ]
  }
 ],
 "metadata": {
  "kernelspec": {
   "display_name": "Python 3 (ipykernel)",
   "language": "python",
   "name": "python3"
  },
  "language_info": {
   "codemirror_mode": {
    "name": "ipython",
    "version": 3
   },
   "file_extension": ".py",
   "mimetype": "text/x-python",
   "name": "python",
   "nbconvert_exporter": "python",
   "pygments_lexer": "ipython3",
   "version": "3.10.6"
  }
 },
 "nbformat": 4,
 "nbformat_minor": 5
}
