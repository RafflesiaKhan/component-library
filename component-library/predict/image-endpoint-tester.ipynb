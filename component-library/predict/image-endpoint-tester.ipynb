{
 "cells": [
  {
   "cell_type": "markdown",
   "id": "d00fc083",
   "metadata": {
    "papermill": {
     "duration": 0.016307,
     "end_time": "2022-01-10T17:05:19.160432",
     "exception": false,
     "start_time": "2022-01-10T17:05:19.144125",
     "status": "completed"
    },
    "tags": []
   },
   "source": [
    "# Image Endpoint Tester"
   ]
  },
  {
   "cell_type": "markdown",
   "id": "645dc2c4",
   "metadata": {
    "papermill": {
     "duration": 0.015642,
     "end_time": "2022-01-10T17:05:19.193671",
     "exception": false,
     "start_time": "2022-01-10T17:05:19.178029",
     "status": "completed"
    },
    "tags": []
   },
   "source": [
    "Manually test CV HTTP endpoint by uploading images and displaying the response"
   ]
  },
  {
   "cell_type": "code",
   "execution_count": 1,
   "id": "166a39dd-a553-4b2b-be0a-0e6e1fdab6fe",
   "metadata": {},
   "outputs": [],
   "source": [
    "import os\n",
    "\"\"\"\n",
    "os.environ['create_image']='True'\n",
    "os.environ['repository']='romeokienzler'\n",
    "os.environ['version']='0.14'\n",
    "\"\"\"\n",
    "os.environ['install_requirements']='True'"
   ]
  },
  {
   "cell_type": "code",
   "execution_count": 2,
   "id": "5ebf4468-2a07-4938-a090-704770bdb762",
   "metadata": {
    "scrolled": true,
    "tags": []
   },
   "outputs": [
    {
     "name": "stdout",
     "output_type": "stream",
     "text": [
      "Requirement already satisfied: voila in /home/romeokienzler/.conda/envs/elyra_dev/lib/python3.9/site-packages (0.3.5)\n",
      "Requirement already satisfied: websockets>=9.0 in /home/romeokienzler/.conda/envs/elyra_dev/lib/python3.9/site-packages (from voila) (10.3)\n",
      "Requirement already satisfied: nbconvert<7,>=6.4.5 in /home/romeokienzler/.conda/envs/elyra_dev/lib/python3.9/site-packages (from voila) (6.5.0)\n",
      "Requirement already satisfied: jupyterlab-server<3,>=2.3.0 in /home/romeokienzler/.conda/envs/elyra_dev/lib/python3.9/site-packages (from voila) (2.14.0)\n",
      "Requirement already satisfied: nbclient<0.6,>=0.4.0 in /home/romeokienzler/.conda/envs/elyra_dev/lib/python3.9/site-packages (from voila) (0.5.13)\n",
      "Requirement already satisfied: jupyter-server<2.0.0,>=0.3.0 in /home/romeokienzler/.conda/envs/elyra_dev/lib/python3.9/site-packages (from voila) (1.17.1)\n",
      "Requirement already satisfied: jupyter-client<8,>=6.1.3 in /home/romeokienzler/.conda/envs/elyra_dev/lib/python3.9/site-packages (from voila) (7.3.4)\n",
      "Requirement already satisfied: traitlets<6,>=5.0.3 in /home/romeokienzler/.conda/envs/elyra_dev/lib/python3.9/site-packages (from voila) (5.3.0)\n",
      "Requirement already satisfied: entrypoints in /home/romeokienzler/.conda/envs/elyra_dev/lib/python3.9/site-packages (from jupyter-client<8,>=6.1.3->voila) (0.4)\n",
      "Requirement already satisfied: pyzmq>=23.0 in /home/romeokienzler/.conda/envs/elyra_dev/lib/python3.9/site-packages (from jupyter-client<8,>=6.1.3->voila) (23.1.0)\n",
      "Requirement already satisfied: tornado>=6.0 in /home/romeokienzler/.conda/envs/elyra_dev/lib/python3.9/site-packages (from jupyter-client<8,>=6.1.3->voila) (6.1)\n",
      "Requirement already satisfied: nest-asyncio>=1.5.4 in /home/romeokienzler/.conda/envs/elyra_dev/lib/python3.9/site-packages (from jupyter-client<8,>=6.1.3->voila) (1.5.5)\n",
      "Requirement already satisfied: jupyter-core>=4.9.2 in /home/romeokienzler/.conda/envs/elyra_dev/lib/python3.9/site-packages (from jupyter-client<8,>=6.1.3->voila) (4.10.0)\n",
      "Requirement already satisfied: python-dateutil>=2.8.2 in /home/romeokienzler/.conda/envs/elyra_dev/lib/python3.9/site-packages (from jupyter-client<8,>=6.1.3->voila) (2.8.2)\n",
      "Requirement already satisfied: Send2Trash in /home/romeokienzler/.conda/envs/elyra_dev/lib/python3.9/site-packages (from jupyter-server<2.0.0,>=0.3.0->voila) (1.8.0)\n",
      "Requirement already satisfied: anyio<4,>=3.1.0 in /home/romeokienzler/.conda/envs/elyra_dev/lib/python3.9/site-packages (from jupyter-server<2.0.0,>=0.3.0->voila) (3.6.1)\n",
      "Requirement already satisfied: nbformat>=5.2.0 in /home/romeokienzler/.conda/envs/elyra_dev/lib/python3.9/site-packages (from jupyter-server<2.0.0,>=0.3.0->voila) (5.4.0)\n",
      "Requirement already satisfied: prometheus-client in /home/romeokienzler/.conda/envs/elyra_dev/lib/python3.9/site-packages (from jupyter-server<2.0.0,>=0.3.0->voila) (0.14.1)\n",
      "Requirement already satisfied: jinja2 in /home/romeokienzler/.conda/envs/elyra_dev/lib/python3.9/site-packages (from jupyter-server<2.0.0,>=0.3.0->voila) (3.1.2)\n",
      "Requirement already satisfied: websocket-client in /home/romeokienzler/.conda/envs/elyra_dev/lib/python3.9/site-packages (from jupyter-server<2.0.0,>=0.3.0->voila) (1.3.3)\n",
      "Requirement already satisfied: argon2-cffi in /home/romeokienzler/.conda/envs/elyra_dev/lib/python3.9/site-packages (from jupyter-server<2.0.0,>=0.3.0->voila) (21.3.0)\n",
      "Requirement already satisfied: terminado>=0.8.3 in /home/romeokienzler/.conda/envs/elyra_dev/lib/python3.9/site-packages (from jupyter-server<2.0.0,>=0.3.0->voila) (0.15.0)\n",
      "Requirement already satisfied: packaging in /home/romeokienzler/.conda/envs/elyra_dev/lib/python3.9/site-packages (from jupyter-server<2.0.0,>=0.3.0->voila) (21.3)\n",
      "Requirement already satisfied: babel in /home/romeokienzler/.conda/envs/elyra_dev/lib/python3.9/site-packages (from jupyterlab-server<3,>=2.3.0->voila) (2.10.3)\n",
      "Requirement already satisfied: jsonschema>=3.0.1 in /home/romeokienzler/.conda/envs/elyra_dev/lib/python3.9/site-packages (from jupyterlab-server<3,>=2.3.0->voila) (4.6.0)\n",
      "Requirement already satisfied: requests in /home/romeokienzler/.conda/envs/elyra_dev/lib/python3.9/site-packages (from jupyterlab-server<3,>=2.3.0->voila) (2.28.0)\n",
      "Requirement already satisfied: json5 in /home/romeokienzler/.conda/envs/elyra_dev/lib/python3.9/site-packages (from jupyterlab-server<3,>=2.3.0->voila) (0.9.5)\n",
      "Requirement already satisfied: importlib-metadata>=3.6 in /home/romeokienzler/.conda/envs/elyra_dev/lib/python3.9/site-packages (from jupyterlab-server<3,>=2.3.0->voila) (4.11.4)\n",
      "Requirement already satisfied: bleach in /home/romeokienzler/.conda/envs/elyra_dev/lib/python3.9/site-packages (from nbconvert<7,>=6.4.5->voila) (5.0.0)\n",
      "Requirement already satisfied: beautifulsoup4 in /home/romeokienzler/.conda/envs/elyra_dev/lib/python3.9/site-packages (from nbconvert<7,>=6.4.5->voila) (4.11.1)\n",
      "Requirement already satisfied: mistune<2,>=0.8.1 in /home/romeokienzler/.conda/envs/elyra_dev/lib/python3.9/site-packages (from nbconvert<7,>=6.4.5->voila) (0.8.4)\n",
      "Requirement already satisfied: tinycss2 in /home/romeokienzler/.conda/envs/elyra_dev/lib/python3.9/site-packages (from nbconvert<7,>=6.4.5->voila) (1.1.1)\n",
      "Requirement already satisfied: pandocfilters>=1.4.1 in /home/romeokienzler/.conda/envs/elyra_dev/lib/python3.9/site-packages (from nbconvert<7,>=6.4.5->voila) (1.5.0)\n",
      "Requirement already satisfied: jupyterlab-pygments in /home/romeokienzler/.conda/envs/elyra_dev/lib/python3.9/site-packages (from nbconvert<7,>=6.4.5->voila) (0.2.2)\n",
      "Requirement already satisfied: pygments>=2.4.1 in /home/romeokienzler/.conda/envs/elyra_dev/lib/python3.9/site-packages (from nbconvert<7,>=6.4.5->voila) (2.12.0)\n",
      "Requirement already satisfied: defusedxml in /home/romeokienzler/.conda/envs/elyra_dev/lib/python3.9/site-packages (from nbconvert<7,>=6.4.5->voila) (0.7.1)\n",
      "Requirement already satisfied: MarkupSafe>=2.0 in /home/romeokienzler/.conda/envs/elyra_dev/lib/python3.9/site-packages (from nbconvert<7,>=6.4.5->voila) (2.1.1)\n",
      "Requirement already satisfied: idna>=2.8 in /home/romeokienzler/.conda/envs/elyra_dev/lib/python3.9/site-packages (from anyio<4,>=3.1.0->jupyter-server<2.0.0,>=0.3.0->voila) (3.3)\n",
      "Requirement already satisfied: sniffio>=1.1 in /home/romeokienzler/.conda/envs/elyra_dev/lib/python3.9/site-packages (from anyio<4,>=3.1.0->jupyter-server<2.0.0,>=0.3.0->voila) (1.2.0)\n",
      "Requirement already satisfied: zipp>=0.5 in /home/romeokienzler/.conda/envs/elyra_dev/lib/python3.9/site-packages (from importlib-metadata>=3.6->jupyterlab-server<3,>=2.3.0->voila) (3.8.0)\n",
      "Requirement already satisfied: pyrsistent!=0.17.0,!=0.17.1,!=0.17.2,>=0.14.0 in /home/romeokienzler/.conda/envs/elyra_dev/lib/python3.9/site-packages (from jsonschema>=3.0.1->jupyterlab-server<3,>=2.3.0->voila) (0.18.1)\n",
      "Requirement already satisfied: attrs>=17.4.0 in /home/romeokienzler/.conda/envs/elyra_dev/lib/python3.9/site-packages (from jsonschema>=3.0.1->jupyterlab-server<3,>=2.3.0->voila) (21.4.0)\n",
      "Requirement already satisfied: fastjsonschema in /home/romeokienzler/.conda/envs/elyra_dev/lib/python3.9/site-packages (from nbformat>=5.2.0->jupyter-server<2.0.0,>=0.3.0->voila) (2.15.3)\n",
      "Requirement already satisfied: six>=1.5 in /home/romeokienzler/.conda/envs/elyra_dev/lib/python3.9/site-packages (from python-dateutil>=2.8.2->jupyter-client<8,>=6.1.3->voila) (1.16.0)\n",
      "Requirement already satisfied: ptyprocess in /home/romeokienzler/.conda/envs/elyra_dev/lib/python3.9/site-packages (from terminado>=0.8.3->jupyter-server<2.0.0,>=0.3.0->voila) (0.7.0)\n",
      "Requirement already satisfied: argon2-cffi-bindings in /home/romeokienzler/.conda/envs/elyra_dev/lib/python3.9/site-packages (from argon2-cffi->jupyter-server<2.0.0,>=0.3.0->voila) (21.2.0)\n",
      "Requirement already satisfied: pytz>=2015.7 in /home/romeokienzler/.conda/envs/elyra_dev/lib/python3.9/site-packages (from babel->jupyterlab-server<3,>=2.3.0->voila) (2022.1)\n",
      "Requirement already satisfied: soupsieve>1.2 in /home/romeokienzler/.conda/envs/elyra_dev/lib/python3.9/site-packages (from beautifulsoup4->nbconvert<7,>=6.4.5->voila) (2.3.1)\n",
      "Requirement already satisfied: webencodings in /home/romeokienzler/.conda/envs/elyra_dev/lib/python3.9/site-packages (from bleach->nbconvert<7,>=6.4.5->voila) (0.5.1)\n",
      "Requirement already satisfied: pyparsing!=3.0.5,>=2.0.2 in /home/romeokienzler/.conda/envs/elyra_dev/lib/python3.9/site-packages (from packaging->jupyter-server<2.0.0,>=0.3.0->voila) (3.0.9)\n",
      "Requirement already satisfied: charset-normalizer~=2.0.0 in /home/romeokienzler/.conda/envs/elyra_dev/lib/python3.9/site-packages (from requests->jupyterlab-server<3,>=2.3.0->voila) (2.0.12)\n",
      "Requirement already satisfied: urllib3<1.27,>=1.21.1 in /home/romeokienzler/.conda/envs/elyra_dev/lib/python3.9/site-packages (from requests->jupyterlab-server<3,>=2.3.0->voila) (1.26.9)\n",
      "Requirement already satisfied: certifi>=2017.4.17 in /home/romeokienzler/.conda/envs/elyra_dev/lib/python3.9/site-packages (from requests->jupyterlab-server<3,>=2.3.0->voila) (2022.6.15)\n",
      "Requirement already satisfied: cffi>=1.0.1 in /home/romeokienzler/.conda/envs/elyra_dev/lib/python3.9/site-packages (from argon2-cffi-bindings->argon2-cffi->jupyter-server<2.0.0,>=0.3.0->voila) (1.15.0)\n",
      "Requirement already satisfied: pycparser in /home/romeokienzler/.conda/envs/elyra_dev/lib/python3.9/site-packages (from cffi>=1.0.1->argon2-cffi-bindings->argon2-cffi->jupyter-server<2.0.0,>=0.3.0->voila) (2.21)\n"
     ]
    }
   ],
   "source": [
    "if bool(os.environ.get('create_image',False)):\n",
    "    docker_file=\"\"\"\n",
    "    FROM registry.access.redhat.com/ubi8/python-39\n",
    "    RUN pip install ipython nbformat flask\n",
    "    ADD image-endpoint.ipynb /\n",
    "    ENTRYPOINT [\"ipython\",\"/image-endpoint.ipynb\",\"> /tmp/component.log\",\"2> /tmp/component.err\"]\n",
    "    \"\"\"\n",
    "    with open(\"Dockerfile\", \"w\") as text_file:\n",
    "        text_file.write(docker_file)\n",
    "\n",
    "    !docker build -t claimed-predict-image-endpoint:`echo $version` .\n",
    "    !docker tag claimed-predict-image-endpoint:`echo $version` `echo $repository`/claimed-predict-image-endpoint:`echo $version`\n",
    "    !docker push `echo $repository`/claimed-predict-image-endpoint:`echo $version`\n",
    "elif bool(os.environ.get('install_requirements',False)):\n",
    "    !pip install voila"
   ]
  },
  {
   "cell_type": "code",
   "execution_count": 8,
   "id": "b595c0b6-4722-4dd9-8c26-8a5f8df24601",
   "metadata": {},
   "outputs": [
    {
     "data": {
      "application/vnd.jupyter.widget-view+json": {
       "model_id": "b0625b24763848ffbf0ff71fb3053840",
       "version_major": 2,
       "version_minor": 0
      },
      "text/plain": [
       "FileUpload(value={}, accept='.png', description='Upload')"
      ]
     },
     "metadata": {},
     "output_type": "display_data"
    },
    {
     "data": {
      "text/plain": [
       "{}"
      ]
     },
     "execution_count": 8,
     "metadata": {},
     "output_type": "execute_result"
    }
   ],
   "source": [
    "import ipywidgets as widgets\n",
    "\n",
    "\n",
    "uploader = widgets.FileUpload(\n",
    "    accept='.png',  # Accepted file extension e.g. '.txt', '.pdf', 'image/*', 'image/*,.pdf'\n",
    "    multiple=False  # True to accept multiple files upload else False\n",
    ")\n",
    "\n",
    "def report_change(change):\n",
    "    print('called')\n",
    "    print('change observed'+str(change))\n",
    "    return\n",
    "\n",
    "uploader.observe(report_change)\n",
    "display(uploader)\n",
    "uploader.value\n",
    "# upload something...\n",
    "\n",
    "# once a file is \n"
   ]
  },
  {
   "cell_type": "code",
   "execution_count": null,
   "id": "e5af5045-58ca-46c8-856e-b16f20465095",
   "metadata": {},
   "outputs": [],
   "source": []
  }
 ],
 "metadata": {
  "kernelspec": {
   "display_name": "Python 3 (ipykernel)",
   "language": "python",
   "name": "python3"
  },
  "language_info": {
   "codemirror_mode": {
    "name": "ipython",
    "version": 3
   },
   "file_extension": ".py",
   "mimetype": "text/x-python",
   "name": "python",
   "nbconvert_exporter": "python",
   "pygments_lexer": "ipython3",
   "version": "3.9.13"
  },
  "papermill": {
   "default_parameters": {},
   "duration": 41.725932,
   "end_time": "2022-01-10T17:05:59.665500",
   "environment_variables": {},
   "exception": null,
   "input_path": "/home/romeokienzler/gitco/claimed/component-library/input/input-url.ipynb",
   "output_path": "/home/romeokienzler/gitco/claimed/component-library/input/input-url.ipynb",
   "parameters": {},
   "start_time": "2022-01-10T17:05:17.939568",
   "version": "2.3.3"
  }
 },
 "nbformat": 4,
 "nbformat_minor": 5
}
