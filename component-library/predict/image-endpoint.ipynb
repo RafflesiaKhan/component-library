{
 "cells": [
  {
   "cell_type": "markdown",
   "id": "d00fc083",
   "metadata": {
    "papermill": {
     "duration": 0.016307,
     "end_time": "2022-01-10T17:05:19.160432",
     "exception": false,
     "start_time": "2022-01-10T17:05:19.144125",
     "status": "completed"
    },
    "tags": []
   },
   "source": [
    "# Image Endpoint"
   ]
  },
  {
   "cell_type": "markdown",
   "id": "645dc2c4",
   "metadata": {
    "papermill": {
     "duration": 0.015642,
     "end_time": "2022-01-10T17:05:19.193671",
     "exception": false,
     "start_time": "2022-01-10T17:05:19.178029",
     "status": "completed"
    },
    "tags": []
   },
   "source": [
    "Creates HTTP endpoint to accept images and call a model"
   ]
  },
  {
   "cell_type": "code",
   "execution_count": 4,
   "id": "166a39dd-a553-4b2b-be0a-0e6e1fdab6fe",
   "metadata": {},
   "outputs": [],
   "source": [
    "import os\n",
    "#os.environ['create_image']='True'\n",
    "#os.environ['repository']='romeokienzler'\n",
    "#os.environ['install_requirements']='True'"
   ]
  },
  {
   "cell_type": "code",
   "execution_count": 6,
   "id": "5ebf4468-2a07-4938-a090-704770bdb762",
   "metadata": {
    "scrolled": true,
    "tags": []
   },
   "outputs": [
    {
     "name": "stdout",
     "output_type": "stream",
     "text": [
      "Sending build context to Docker daemon  15.06MB\n",
      "Step 1/4 : FROM ultralytics/yolov5:latest\n",
      " ---> bd6f40b6f720\n",
      "Step 2/4 : RUN pip install ipython nbformat flask\n",
      " ---> Using cache\n",
      " ---> 014f071df204\n",
      "Step 3/4 : ADD image-endpoint.ipynb /\n",
      " ---> 1fb9b667b9a2\n",
      "Step 4/4 : ENTRYPOINT [\"ipython\",\"/image-endpoint.ipynb\",\"> /tmp/component.log\",\"2> /tmp/component.err\"]\n",
      " ---> Running in d1ce3d23e4ba\n",
      "Removing intermediate container d1ce3d23e4ba\n",
      " ---> 9f13d93fb942\n",
      "Successfully built 9f13d93fb942\n",
      "Successfully tagged claimed-predict-image-endpoint:0.3\n",
      "The push refers to repository [docker.io/romeokienzler/claimed-predict-image-endpoint]\n",
      "\n",
      "\u001b[1B52d6026e: Preparing \n",
      "\u001b[1B6b200e01: Preparing \n",
      "\u001b[1B0723ec63: Preparing \n",
      "\u001b[1B0a2f6757: Preparing \n",
      "\u001b[1Bbf18a086: Preparing \n",
      "\u001b[1B4d267321: Preparing \n",
      "\u001b[1B07e65d60: Preparing \n",
      "\u001b[1B3217474a: Preparing \n",
      "\u001b[1B931a8d95: Preparing \n",
      "\u001b[1Bb251c799: Preparing \n",
      "\u001b[1B4a9ef494: Preparing \n",
      "\u001b[1B2723dd5e: Preparing \n",
      "\u001b[1B293b5ba9: Preparing \n",
      "\u001b[1B0b612187: Preparing \n",
      "\u001b[1B8d50284b: Preparing \n",
      "\u001b[1B8e91ad93: Preparing \n",
      "\u001b[1B918f9673: Preparing \n",
      "\u001b[13Bd267321: Waiting g \n",
      "\u001b[12B217474a: Waiting g \n",
      "\u001b[8B293b5ba9: Waiting g \n",
      "\u001b[1B623460d5: Preparing \n",
      "\u001b[12Ba9ef494: Waiting g \n",
      "\u001b[15B31a8d95: Waiting g \n",
      "\u001b[1Bd8c4f663: Preparing \n",
      "\u001b[16B251c799: Waiting g \n",
      "\u001b[1Ba889e3b3: Preparing \n",
      "\u001b[3Bbc819902: Waiting g \n",
      "\u001b[1B3bd52322: Preparing \n",
      "\u001b[1B0d02e246: Preparing \n",
      "\u001b[1B207b08f7: Preparing \n",
      "\u001b[27Bf18a086: Preparing \n",
      "\u001b[28Bf18a086: Preparing \n",
      "\u001b[1Baad1c66f: Preparing \n",
      "\u001b[1B6d833c52: Preparing \n",
      "\u001b[1Bb25354b0: Preparing \n",
      "\u001b[1Bd8acdd13: Preparing \n",
      "\u001b[10Bbd52322: Waiting g \n",
      "\u001b[1B29e8aed5: Preparing \n",
      "\u001b[11Bd02e246: Waiting g \n",
      "\u001b[11B07b08f7: Waiting g \n",
      "\u001b[1B79ccc355: Preparing \n",
      "\u001b[1B1926e074: Preparing \n",
      "\u001b[1B4e382741: Preparing \n",
      "\u001b[40Bf18a086: Preparing \n",
      "\u001b[13Bad1c66f: Waiting g \n",
      "\u001b[10B05329b3: Waiting g \n",
      "\u001b[12B8acdd13: Waiting g \n",
      "\u001b[1Bcb2987ae: Preparing \n",
      "\u001b[12B9e8aed5: Waiting g \n",
      "\u001b[17Bd833c52: Waiting g \n",
      "\u001b[17B25354b0: Waiting g \n",
      "\u001b[13B5adee33: Waiting g \n",
      "\u001b[15Bf9fa71a: Waiting g \n",
      "\u001b[6Bec34566b: Waiting g \n",
      "\u001b[9B29e3d429: Waiting g \n",
      "\u001b[13B891c1c5: Waiting g \u001b[13A\u001b[2K\n",
      "\u001b[1Bedc62fb3: Layer already exists 2kB5A\u001b[2K\u001b[57A\u001b[2K\u001b[50A\u001b[2K\u001b[49A\u001b[2K\u001b[48A\u001b[2K\u001b[45A\u001b[2K\u001b[44A\u001b[2K\u001b[43A\u001b[2K\u001b[42A\u001b[2K\u001b[40A\u001b[2K\u001b[37A\u001b[2K\u001b[39A\u001b[2K\u001b[57A\u001b[2K\u001b[36A\u001b[2K\u001b[35A\u001b[2K\u001b[32A\u001b[2K\u001b[31A\u001b[2K\u001b[28A\u001b[2K\u001b[29A\u001b[2K\u001b[27A\u001b[2K\u001b[26A\u001b[2K\u001b[24A\u001b[2K\u001b[23A\u001b[2K\u001b[22A\u001b[2K\u001b[21A\u001b[2K\u001b[19A\u001b[2K\u001b[18A\u001b[2K\u001b[17A\u001b[2K\u001b[16A\u001b[2K\u001b[14A\u001b[2K\u001b[13A\u001b[2K\u001b[12A\u001b[2K\u001b[11A\u001b[2K\u001b[10A\u001b[2K\u001b[7A\u001b[2K\u001b[6A\u001b[2K\u001b[5A\u001b[2K\u001b[4A\u001b[2K\u001b[2A\u001b[2K\u001b[1A\u001b[2K0.3: digest: sha256:cfff23b195cec5adbf2a2a516abd202da3b88c55c36f801a255e8cf31bb172e5 size: 12936\n"
     ]
    }
   ],
   "source": [
    "if bool(os.environ.get('create_image',False)):\n",
    "    docker_file=\"\"\"\n",
    "    FROM ultralytics/yolov5:latest\n",
    "    RUN pip install ipython nbformat flask\n",
    "    ADD image-endpoint.ipynb /\n",
    "    ENTRYPOINT [\"ipython\",\"/image-endpoint.ipynb\",\"> /tmp/component.log\",\"2> /tmp/component.err\"]\n",
    "    \"\"\"\n",
    "    with open(\"Dockerfile\", \"w\") as text_file:\n",
    "        text_file.write(docker_file)\n",
    "\n",
    "    !docker build -t claimed-predict-image-endpoint:0.3 .\n",
    "    !docker tag claimed-predict-image-endpoint:0.3 `echo $repository`/claimed-predict-image-endpoint:0.3\n",
    "    !docker push `echo $repository`/claimed-predict-image-endpoint:0.3\n",
    "elif bool(os.environ.get('install_requirements',False)):\n",
    "    !pip install flask"
   ]
  },
  {
   "cell_type": "code",
   "execution_count": null,
   "id": "054a358d",
   "metadata": {
    "papermill": {
     "duration": 0.02608,
     "end_time": "2022-01-10T17:05:21.005692",
     "exception": false,
     "start_time": "2022-01-10T17:05:20.979612",
     "status": "completed"
    },
    "tags": []
   },
   "outputs": [],
   "source": [
    "from flask import Flask"
   ]
  },
  {
   "cell_type": "code",
   "execution_count": null,
   "id": "bc3db22f-b7a7-4436-a79f-5159a42993df",
   "metadata": {
    "scrolled": true,
    "tags": []
   },
   "outputs": [],
   "source": [
    "app = Flask(__name__)\n",
    "\n",
    "@app.route('/')\n",
    "def index():\n",
    "    return 'Image Service running v0.3'\n",
    "\n",
    "\n",
    "@app.route('/process_image')\n",
    "def index():\n",
    "    !python /usr/src/app/detect.py --save-txt \n",
    "    return 'yolo5 JSON'\n",
    "\n",
    "\n",
    "app.run(host='0.0.0.0', port=8080)"
   ]
  },
  {
   "cell_type": "code",
   "execution_count": null,
   "id": "e7800255-afc1-4275-9355-3a3fde4c2c78",
   "metadata": {},
   "outputs": [],
   "source": []
  }
 ],
 "metadata": {
  "kernelspec": {
   "display_name": "Python 3 (ipykernel)",
   "language": "python",
   "name": "python3"
  },
  "language_info": {
   "codemirror_mode": {
    "name": "ipython",
    "version": 3
   },
   "file_extension": ".py",
   "mimetype": "text/x-python",
   "name": "python",
   "nbconvert_exporter": "python",
   "pygments_lexer": "ipython3",
   "version": "3.9.6"
  },
  "papermill": {
   "default_parameters": {},
   "duration": 41.725932,
   "end_time": "2022-01-10T17:05:59.665500",
   "environment_variables": {},
   "exception": null,
   "input_path": "/home/romeokienzler/gitco/claimed/component-library/input/input-url.ipynb",
   "output_path": "/home/romeokienzler/gitco/claimed/component-library/input/input-url.ipynb",
   "parameters": {},
   "start_time": "2022-01-10T17:05:17.939568",
   "version": "2.3.3"
  }
 },
 "nbformat": 4,
 "nbformat_minor": 5
}
