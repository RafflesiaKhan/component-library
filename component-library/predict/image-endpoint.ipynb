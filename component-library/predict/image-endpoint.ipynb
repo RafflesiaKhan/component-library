{
 "cells": [
  {
   "cell_type": "markdown",
   "id": "d00fc083",
   "metadata": {
    "papermill": {
     "duration": 0.016307,
     "end_time": "2022-01-10T17:05:19.160432",
     "exception": false,
     "start_time": "2022-01-10T17:05:19.144125",
     "status": "completed"
    },
    "tags": []
   },
   "source": [
    "# Image Endpoint"
   ]
  },
  {
   "cell_type": "markdown",
   "id": "645dc2c4",
   "metadata": {
    "papermill": {
     "duration": 0.015642,
     "end_time": "2022-01-10T17:05:19.193671",
     "exception": false,
     "start_time": "2022-01-10T17:05:19.178029",
     "status": "completed"
    },
    "tags": []
   },
   "source": [
    "Creates HTTP endpoint to accept images and call a model"
   ]
  },
  {
   "cell_type": "code",
   "execution_count": null,
   "id": "166a39dd-a553-4b2b-be0a-0e6e1fdab6fe",
   "metadata": {},
   "outputs": [],
   "source": [
    "import os\n",
    "\"\"\"\n",
    "os.environ['create_image']='True'\n",
    "os.environ['repository']='romeokienzler'\n",
    "os.environ['version']='0.10'\n",
    "\"\"\"\n",
    "#os.environ['install_requirements']='True'"
   ]
  },
  {
   "cell_type": "code",
   "execution_count": 4,
   "id": "5ebf4468-2a07-4938-a090-704770bdb762",
   "metadata": {
    "scrolled": true,
    "tags": []
   },
   "outputs": [
    {
     "name": "stdout",
     "output_type": "stream",
     "text": [
      "Sending build context to Docker daemon  15.22MB\n",
      "Step 1/4 : FROM ultralytics/yolov5:latest\n",
      " ---> bd6f40b6f720\n",
      "Step 2/4 : RUN pip install ipython nbformat flask\n",
      " ---> Using cache\n",
      " ---> 014f071df204\n",
      "Step 3/4 : ADD image-endpoint.ipynb /\n",
      " ---> ab502ab44aa7\n",
      "Step 4/4 : ENTRYPOINT [\"ipython\",\"/image-endpoint.ipynb\",\"> /tmp/component.log\",\"2> /tmp/component.err\"]\n",
      " ---> Running in d654b4038ee8\n",
      "Removing intermediate container d654b4038ee8\n",
      " ---> 976f02007881\n",
      "Successfully built 976f02007881\n",
      "Successfully tagged claimed-predict-image-endpoint:0.10\n",
      "The push refers to repository [docker.io/romeokienzler/claimed-predict-image-endpoint]\n",
      "\n",
      "\u001b[1Be0ec5bdb: Preparing \n",
      "\u001b[1B6b200e01: Preparing \n",
      "\u001b[1B0723ec63: Preparing \n",
      "\u001b[1B0a2f6757: Preparing \n",
      "\u001b[1Bbf18a086: Preparing \n",
      "\u001b[1B4d267321: Preparing \n",
      "\u001b[1B07e65d60: Preparing \n",
      "\u001b[1B3217474a: Preparing \n",
      "\u001b[1B931a8d95: Preparing \n",
      "\u001b[1Bb251c799: Preparing \n",
      "\u001b[1B4a9ef494: Preparing \n",
      "\u001b[1B2723dd5e: Preparing \n",
      "\u001b[1B293b5ba9: Preparing \n",
      "\u001b[1B0b612187: Preparing \n",
      "\u001b[1B8d50284b: Preparing \n",
      "\u001b[1B8e91ad93: Preparing \n",
      "\u001b[1B918f9673: Preparing \n",
      "\u001b[10B31a8d95: Waiting g \n",
      "\u001b[1B4f82008f: Preparing \n",
      "\u001b[1B52d62318: Preparing \n",
      "\u001b[12B251c799: Waiting g \n",
      "\u001b[1B8d21c9a5: Preparing \n",
      "\u001b[1B2bb7e0f4: Preparing \n",
      "\u001b[1Bd8c4f663: Preparing \n",
      "\u001b[1Bbc819902: Preparing \n",
      "\u001b[1Ba889e3b3: Preparing \n",
      "\u001b[1B71f99bea: Preparing \n",
      "\u001b[1B3bd52322: Preparing \n",
      "\u001b[1B0d02e246: Preparing \n",
      "\u001b[1B207b08f7: Preparing \n",
      "\u001b[27Bf18a086: Preparing \n",
      "\u001b[28Bf18a086: Preparing \n",
      "\u001b[1Baad1c66f: Preparing \n",
      "\u001b[1B6d833c52: Preparing \n",
      "\u001b[1Bb25354b0: Preparing \n",
      "\u001b[1Bd8acdd13: Preparing \n",
      "\u001b[1Bd05329b3: Preparing \n",
      "\u001b[1B29e8aed5: Preparing \n",
      "\u001b[1B5f9fa71a: Preparing \n",
      "\u001b[34B7e65d60: Waiting g \n",
      "\u001b[31Ba9ef494: Waiting g \n",
      "\u001b[1B1926e074: Preparing \n",
      "\u001b[1B4e382741: Preparing \n",
      "\u001b[40Bf18a086: Preparing \n",
      "\u001b[32Bb612187: Waiting g \n",
      "\u001b[1Bbeacae1a: Preparing \n",
      "\u001b[1B29e3d429: Preparing \n",
      "\u001b[33Be91ad93: Waiting g \n",
      "\u001b[33B18f9673: Waiting g \n",
      "\u001b[1B65511ca3: Preparing \n",
      "\u001b[1B0966ecdf: Preparing \n",
      "\u001b[1B036385ff: Preparing \n",
      "\u001b[36Bf95832c: Waiting g \n",
      "\u001b[1B62157aac: Preparing \n",
      "\u001b[37Bf82008f: Waiting g \n",
      "\u001b[1B09f82e6f: Preparing \n",
      "\u001b[1Bedc62fb3: Layer already exists kB57A\u001b[2K\u001b[52A\u001b[2K\u001b[46A\u001b[2K\u001b[43A\u001b[2K\u001b[42A\u001b[2K\u001b[40A\u001b[2K\u001b[39A\u001b[2K\u001b[57A\u001b[2K\u001b[35A\u001b[2K\u001b[33A\u001b[2K\u001b[32A\u001b[2K\u001b[31A\u001b[2K\u001b[30A\u001b[2K\u001b[27A\u001b[2K\u001b[26A\u001b[2K\u001b[25A\u001b[2K\u001b[22A\u001b[2K\u001b[21A\u001b[2K\u001b[20A\u001b[2K\u001b[17A\u001b[2K\u001b[15A\u001b[2K\u001b[14A\u001b[2K\u001b[12A\u001b[2K\u001b[10A\u001b[2K\u001b[8A\u001b[2K\u001b[7A\u001b[2K\u001b[5A\u001b[2K\u001b[4A\u001b[2K\u001b[2A\u001b[2K\u001b[1A\u001b[2K0.10: digest: sha256:a61b3d245973f4a4e9cbb66d338bb9f3ab9192fe0a18065709ec1b246c3ee1dd size: 12936\n"
     ]
    }
   ],
   "source": [
    "if bool(os.environ.get('create_image',False)):\n",
    "    docker_file=\"\"\"\n",
    "    FROM ultralytics/yolov5:latest\n",
    "    RUN pip install ipython nbformat flask\n",
    "    ADD image-endpoint.ipynb /\n",
    "    ENTRYPOINT [\"ipython\",\"/image-endpoint.ipynb\",\"> /tmp/component.log\",\"2> /tmp/component.err\"]\n",
    "    \"\"\"\n",
    "    with open(\"Dockerfile\", \"w\") as text_file:\n",
    "        text_file.write(docker_file)\n",
    "\n",
    "    !docker build -t claimed-predict-image-endpoint:`echo $version` .\n",
    "    !docker tag claimed-predict-image-endpoint:`echo $version` `echo $repository`/claimed-predict-image-endpoint:`echo $version`\n",
    "    !docker push `echo $repository`/claimed-predict-image-endpoint:`echo $version`\n",
    "elif bool(os.environ.get('install_requirements',False)):\n",
    "    !pip install flask"
   ]
  },
  {
   "cell_type": "code",
   "execution_count": null,
   "id": "054a358d",
   "metadata": {
    "papermill": {
     "duration": 0.02608,
     "end_time": "2022-01-10T17:05:21.005692",
     "exception": false,
     "start_time": "2022-01-10T17:05:20.979612",
     "status": "completed"
    },
    "tags": []
   },
   "outputs": [],
   "source": [
    "from flask import Flask\n",
    "from flask import request\n",
    "from flask import send_file"
   ]
  },
  {
   "cell_type": "code",
   "execution_count": null,
   "id": "b595c0b6-4722-4dd9-8c26-8a5f8df24601",
   "metadata": {},
   "outputs": [],
   "source": [
    "index_html = \"\"\"\n",
    "<html>\n",
    "    <head></head>\n",
    "    <body>\n",
    "        <form action=\"process-image\" method=\"post\" enctype=\"multipart/form-data\">\n",
    "            <input type=\"file\" name=\"file\" id=\"file\">\n",
    "            <input type=\"submit\" value=\"Upload Image\" name=\"submit\">\n",
    "        </form>\n",
    "    </body>\n",
    "</html>\n",
    "\"\"\""
   ]
  },
  {
   "cell_type": "code",
   "execution_count": null,
   "id": "bc3db22f-b7a7-4436-a79f-5159a42993df",
   "metadata": {
    "scrolled": true,
    "tags": []
   },
   "outputs": [],
   "source": [
    "app = Flask(__name__)\n",
    "\n",
    "@app.route('/')\n",
    "def index():\n",
    "    return index_html\n",
    "\n",
    "\n",
    "@app.route('/process-image', methods=['POST'])\n",
    "def upload_file():\n",
    "    file = request.files['file']\n",
    "    file.save('/tmp/image.png')\n",
    "    !rm -Rf /tmp/exp\n",
    "    !python /usr/src/app/detect.py --save-txt --project /tmp/ --source /tmp/image.png\n",
    "    return send_file('/tmp/exp/image.png', mimetype='image/png')\n",
    "\n",
    "\n",
    "app.run(host='0.0.0.0', port=8080)"
   ]
  },
  {
   "cell_type": "code",
   "execution_count": null,
   "id": "e7800255-afc1-4275-9355-3a3fde4c2c78",
   "metadata": {},
   "outputs": [],
   "source": []
  }
 ],
 "metadata": {
  "kernelspec": {
   "display_name": "Python 3 (ipykernel)",
   "language": "python",
   "name": "python3"
  },
  "language_info": {
   "codemirror_mode": {
    "name": "ipython",
    "version": 3
   },
   "file_extension": ".py",
   "mimetype": "text/x-python",
   "name": "python",
   "nbconvert_exporter": "python",
   "pygments_lexer": "ipython3",
   "version": "3.9.6"
  },
  "papermill": {
   "default_parameters": {},
   "duration": 41.725932,
   "end_time": "2022-01-10T17:05:59.665500",
   "environment_variables": {},
   "exception": null,
   "input_path": "/home/romeokienzler/gitco/claimed/component-library/input/input-url.ipynb",
   "output_path": "/home/romeokienzler/gitco/claimed/component-library/input/input-url.ipynb",
   "parameters": {},
   "start_time": "2022-01-10T17:05:17.939568",
   "version": "2.3.3"
  }
 },
 "nbformat": 4,
 "nbformat_minor": 5
}
