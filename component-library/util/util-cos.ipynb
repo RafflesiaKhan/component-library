{
 "cells": [
  {
   "cell_type": "markdown",
   "id": "d00fc083",
   "metadata": {
    "papermill": {
     "duration": 0.002622,
     "end_time": "2022-10-26T08:27:02.102770",
     "exception": false,
     "start_time": "2022-10-26T08:27:02.100148",
     "status": "completed"
    },
    "tags": []
   },
   "source": [
    "# util-cos"
   ]
  },
  {
   "cell_type": "markdown",
   "id": "645dc2c4",
   "metadata": {
    "papermill": {
     "duration": 0.004143,
     "end_time": "2022-10-26T08:27:02.111011",
     "exception": false,
     "start_time": "2022-10-26T08:27:02.106868",
     "status": "completed"
    },
    "tags": []
   },
   "source": [
    "This component provides COS utility functions (e.g. creating a bucket, listing contents of a bucket)"
   ]
  },
  {
   "cell_type": "code",
   "execution_count": 2,
   "id": "047d3ad3",
   "metadata": {},
   "outputs": [],
   "source": [
    "import os\n",
    "\n",
    "#os.environ['create_image']='True'\n",
    "os.environ['repository']='docker.io/romeokienzler'\n",
    "os.environ['version']='0.3'\n",
    "os.environ['name']='claimed-util-cos'"
   ]
  },
  {
   "cell_type": "code",
   "execution_count": 3,
   "id": "4e59fe38",
   "metadata": {
    "papermill": {
     "duration": 2.308259,
     "end_time": "2022-10-26T08:27:04.423791",
     "exception": false,
     "start_time": "2022-10-26T08:27:02.115532",
     "status": "completed"
    },
    "scrolled": true,
    "tags": []
   },
   "outputs": [
    {
     "name": "stdout",
     "output_type": "stream",
     "text": [
      "Sending build context to Docker daemon  15.36kB\n",
      "Step 1/5 : FROM debian\n",
      " ---> 54e726b437fb\n",
      "Step 2/5 : RUN apt update && apt install -y python3-pip procps default-jre\n",
      " ---> Using cache\n",
      " ---> 378bbf811c49\n",
      "Step 3/5 : RUN pip install ipython nbformat aiobotocore botocore s3fs\n",
      " ---> Using cache\n",
      " ---> 579053968a26\n",
      "Step 4/5 : ADD util-cos.ipynb .\n",
      " ---> 7efae8818126\n",
      "Step 5/5 : CMD [\"ipython\", \"util-cos.ipynb\"]\n",
      " ---> Running in 190e52ee15a4\n",
      "Removing intermediate container 190e52ee15a4\n",
      " ---> 2695893e143f\n",
      "Successfully built 2695893e143f\n",
      "Successfully tagged claimed-util-cos:0.3\n",
      "The push refers to repository [docker.io/romeokienzler/claimed-util-cos]\n",
      "\n",
      "\u001b[1Bf9fb7c28: Preparing \n",
      "\u001b[1Bea5ff596: Preparing \n",
      "\u001b[1B05f88123: Preparing \n",
      "\u001b[4Bf9fb7c28: Pushed lready exists 9kBA\u001b[2K\u001b[4A\u001b[2K0.3: digest: sha256:6978b44028ecd7709562182232ab2593e446d9c740d3a21a85aac60f549a2a03 size: 1162\n"
     ]
    }
   ],
   "source": [
    "if bool(os.environ.get('create_image',False)):\n",
    "    docker_file=\"\"\"\n",
    "    FROM debian\n",
    "    RUN apt update && apt install -y python3-pip procps default-jre\n",
    "    RUN pip install ipython nbformat aiobotocore botocore s3fs\n",
    "    ADD util-cos.ipynb .\n",
    "    CMD [\"ipython\", \"util-cos.ipynb\"]\n",
    "    \"\"\"\n",
    "    with open(\"Dockerfile\", \"w\") as text_file:\n",
    "        text_file.write(docker_file)\n",
    "\n",
    "    !docker build -t `echo $name`:`echo $version` .\n",
    "    !docker tag `echo $name`:`echo $version` `echo $repository`/`echo $name`:`echo $version`\n",
    "    !docker push `echo $repository`/`echo $name`:`echo $version`\n",
    "    !rm Dockerfile\n",
    "else: \n",
    "    None"
   ]
  },
  {
   "cell_type": "code",
   "execution_count": null,
   "id": "054a358d",
   "metadata": {
    "papermill": {
     "duration": 0.013833,
     "end_time": "2022-10-26T08:27:04.440049",
     "exception": false,
     "start_time": "2022-10-26T08:27:04.426216",
     "status": "completed"
    },
    "tags": []
   },
   "outputs": [],
   "source": [
    "import logging\n",
    "import os\n",
    "import re\n",
    "import s3fs\n",
    "import sys"
   ]
  },
  {
   "cell_type": "code",
   "execution_count": null,
   "id": "fcab9b87",
   "metadata": {
    "papermill": {
     "duration": 0.013675,
     "end_time": "2022-10-26T08:27:04.455836",
     "exception": false,
     "start_time": "2022-10-26T08:27:04.442161",
     "status": "completed"
    },
    "tags": []
   },
   "outputs": [],
   "source": [
    "# access key id\n",
    "access_key_id = os.environ.get('access_key_id')\n",
    "\n",
    "# secret access key\n",
    "secret_access_key = os.environ.get('secret_access_key')\n",
    "\n",
    "# cos/s3 endpoint\n",
    "endpoint = os.environ.get('endpoint')\n",
    "\n",
    "# cos bucket name\n",
    "bucket_name = os.environ.get('bucket_name')\n",
    "\n",
    "# path\n",
    "path = os.environ.get('path','')\n",
    "\n",
    "# target\n",
    "target = os.environ.get('target')\n",
    "\n",
    "# recursive\n",
    "recursive = bool(os.environ.get('recursive','False'))\n",
    "\n",
    "# operation\n",
    "operation = os.environ.get('operation')"
   ]
  },
  {
   "cell_type": "code",
   "execution_count": null,
   "id": "22c51c11-7c47-4877-92a3-88e071506012",
   "metadata": {
    "papermill": {
     "duration": 0.01535,
     "end_time": "2022-10-26T08:27:04.474938",
     "exception": false,
     "start_time": "2022-10-26T08:27:04.459588",
     "status": "completed"
    },
    "tags": []
   },
   "outputs": [],
   "source": [
    "parameters = list(\n",
    "    map(lambda s: re.sub('$', '\"', s),\n",
    "        map(\n",
    "            lambda s: s.replace('=', '=\"'),\n",
    "            filter(\n",
    "                lambda s: s.find('=') > -1 and bool(re.match(r'[A-Za-z0-9_]*=[.\\/A-Za-z0-9]*', s)),\n",
    "                sys.argv\n",
    "            )\n",
    "    )))\n",
    "\n",
    "for parameter in parameters:\n",
    "    logging.debug('Parameter: ' + parameter)\n",
    "    exec(parameter)\n",
    "\n",
    "recursive = bool(recursive)"
   ]
  },
  {
   "cell_type": "code",
   "execution_count": null,
   "id": "b0e2aec4",
   "metadata": {},
   "outputs": [],
   "source": [
    "def print_list(l):\n",
    "    for file in l:\n",
    "        print(file)"
   ]
  },
  {
   "cell_type": "code",
   "execution_count": null,
   "id": "307d42c7-d81b-4bf1-b823-431e7c434631",
   "metadata": {
    "papermill": {
     "duration": 0.965251,
     "end_time": "2022-10-26T08:27:05.463197",
     "exception": false,
     "start_time": "2022-10-26T08:27:04.497946",
     "status": "completed"
    },
    "tags": []
   },
   "outputs": [],
   "source": [
    "s3 = s3fs.S3FileSystem(\n",
    "    anon=False,\n",
    "    key=access_key_id,\n",
    "    secret=secret_access_key,\n",
    "    client_kwargs={'endpoint_url': endpoint}\n",
    ")\n",
    "\n",
    "if operation == 'mkdir':\n",
    "    s3.mkdir(bucket_name+path)\n",
    "elif operation == 'ls':\n",
    "    print_list(s3.ls(bucket_name+path))\n",
    "elif operation == 'find':\n",
    "    print_list(s3.find(bucket_name+path))\n",
    "elif operation == 'get':\n",
    "    s3.get(bucket_name+path, target, recursive=recursive)\n",
    "else:\n",
    "    print(f'operation unkonwn {operation}')"
   ]
  }
 ],
 "metadata": {
  "kernelspec": {
   "display_name": "Python 3",
   "language": "python",
   "name": "python3"
  },
  "language_info": {
   "codemirror_mode": {
    "name": "ipython",
    "version": 3
   },
   "file_extension": ".py",
   "mimetype": "text/x-python",
   "name": "python",
   "nbconvert_exporter": "python",
   "pygments_lexer": "ipython3",
   "version": "3.11.1"
  },
  "papermill": {
   "default_parameters": {},
   "duration": 5.223558,
   "end_time": "2022-10-26T08:27:05.697642",
   "environment_variables": {},
   "exception": null,
   "input_path": "/home/romeokienzler/gitco/claimed/component-library/input/input-url.ipynb",
   "output_path": "/home/romeokienzler/gitco/claimed/component-library/input/input-url.ipynb",
   "parameters": {},
   "start_time": "2022-10-26T08:27:00.474084",
   "version": "2.3.3"
  },
  "vscode": {
   "interpreter": {
    "hash": "e7370f93d1d0cde622a1f8e1c04877d8463912d04d973331ad4851f04de6915a"
   }
  }
 },
 "nbformat": 4,
 "nbformat_minor": 5
}
