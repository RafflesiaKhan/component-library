{
 "cells": [
  {
   "cell_type": "code",
   "execution_count": 6,
   "id": "7c91a4d4-8629-4a55-a530-6dd400e6eef3",
   "metadata": {},
   "outputs": [],
   "source": [
    "import requests\n",
    "import json\n",
    "import pickle\n"
   ]
  },
  {
   "cell_type": "code",
   "execution_count": 7,
   "id": "170d6e01-537f-4442-bf1d-168e611a7acd",
   "metadata": {},
   "outputs": [],
   "source": [
    "with open('watsoniotp.healthy.phase_aligned.pickle','rb') as file_object:\n",
    "    raw_data = file_object.read()\n",
    "    data_healthy = pickle.loads(raw_data, encoding='latin1')\n",
    "\n",
    "with open('watsoniotp.broken.phase_aligned.pickle','rb') as file_object:\n",
    "    raw_data = file_object.read()\n",
    "    data_broken = pickle.loads(raw_data, encoding='latin1')"
   ]
  },
  {
   "cell_type": "code",
   "execution_count": 14,
   "id": "24439c5c-0062-47ac-8045-ccea3c6568a6",
   "metadata": {},
   "outputs": [],
   "source": [
    "url = \"http://localhost:8080\"\n",
    "data = {'sender': 'Alice', 'receiver': 'Bob', 'message': 'We did it!'}\n",
    "headers = {'Content-type': 'application/json', 'Accept': 'text/plain'}\n",
    "r = requests.post(url, data=json.dumps(json.dumps(data_healthy.tolist())), headers=headers)"
   ]
  },
  {
   "cell_type": "code",
   "execution_count": null,
   "id": "d671570f-4be5-46b7-9fa4-f121ae820f70",
   "metadata": {},
   "outputs": [],
   "source": []
  }
 ],
 "metadata": {
  "kernelspec": {
   "display_name": "Python 3 (ipykernel)",
   "language": "python",
   "name": "python3"
  },
  "language_info": {
   "codemirror_mode": {
    "name": "ipython",
    "version": 3
   },
   "file_extension": ".py",
   "mimetype": "text/x-python",
   "name": "python",
   "nbconvert_exporter": "python",
   "pygments_lexer": "ipython3",
   "version": "3.9.7"
  }
 },
 "nbformat": 4,
 "nbformat_minor": 5
}
