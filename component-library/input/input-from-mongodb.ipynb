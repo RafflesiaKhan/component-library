{
 "cells": [
  {
   "attachments": {},
   "cell_type": "markdown",
   "metadata": {},
   "source": [
    "# Input From MondoDB\n",
    "This notebook pulls data set from mongodb database\n",
    "- first connect with mongo with url\n",
    "- then test the connection"
   ]
  },
  {
   "cell_type": "code",
   "execution_count": null,
   "metadata": {},
   "outputs": [],
   "source": [
    "!pip install pymongo, dnspython"
   ]
  },
  {
   "cell_type": "code",
   "execution_count": null,
   "metadata": {},
   "outputs": [],
   "source": [
    "from pymongo import MongoClient"
   ]
  },
  {
   "cell_type": "code",
   "execution_count": null,
   "metadata": {},
   "outputs": [],
   "source": [
    "# MongoDB connection settings\n",
    "# Connection URL\n",
    "# Note: replace password with your mongodb atlas password for the sampledb user\n",
    "url = \"mongodb+srv://sampledb:<password>@cluster0.hb4ewib.mongodb.net/\"\n",
    "\n",
    "# Connect to MongoDB\n",
    "client = MongoClient(url)\n"
   ]
  },
  {
   "cell_type": "code",
   "execution_count": null,
   "metadata": {},
   "outputs": [],
   "source": [
    "# MongoDB connection testing\n",
    "# Access a specific database\n",
    "database = client.sample_analytics\n",
    "\n",
    "# Access a specific collection\n",
    "collection = database['<your_collection_name>']\n",
    "\n",
    "# Retrieve a document from the collection\n",
    "document = collection.find_one({\"name\": \"Elizabeth Ray\"})\n",
    "print(document)"
   ]
  },
  {
   "cell_type": "code",
   "execution_count": null,
   "metadata": {},
   "outputs": [],
   "source": [
    "#finally close the connection\n",
    "client.close()"
   ]
  }
 ],
 "metadata": {
  "language_info": {
   "name": "python"
  },
  "orig_nbformat": 4
 },
 "nbformat": 4,
 "nbformat_minor": 2
}
