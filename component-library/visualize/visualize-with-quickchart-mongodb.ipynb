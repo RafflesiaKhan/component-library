{
 "cells": [
  {
   "attachments": {},
   "cell_type": "markdown",
   "metadata": {},
   "source": [
    "#### Visualize data on quick-chart\n",
    "This notebook uses the [quickchart](https://quickchart.io/) library to visualize data\n",
    "- one example for random data\n",
    "- second example for visualizing data from mongodb"
   ]
  },
  {
   "cell_type": "code",
   "execution_count": 6,
   "metadata": {},
   "outputs": [
    {
     "name": "stdout",
     "output_type": "stream",
     "text": [
      "Collecting quickchart.io\n",
      "  Downloading quickchart_io-2.0.0-py3-none-any.whl (5.1 kB)\n",
      "Requirement already satisfied: requests<3.0.0,>=2.28.1 in /Users/rafflesiakhan/anaconda3/lib/python3.10/site-packages (from quickchart.io) (2.29.0)\n",
      "Requirement already satisfied: charset-normalizer<4,>=2 in /Users/rafflesiakhan/anaconda3/lib/python3.10/site-packages (from requests<3.0.0,>=2.28.1->quickchart.io) (2.0.4)\n",
      "Requirement already satisfied: certifi>=2017.4.17 in /Users/rafflesiakhan/anaconda3/lib/python3.10/site-packages (from requests<3.0.0,>=2.28.1->quickchart.io) (2023.5.7)\n",
      "Requirement already satisfied: urllib3<1.27,>=1.21.1 in /Users/rafflesiakhan/anaconda3/lib/python3.10/site-packages (from requests<3.0.0,>=2.28.1->quickchart.io) (1.26.14)\n",
      "Requirement already satisfied: idna<4,>=2.5 in /Users/rafflesiakhan/anaconda3/lib/python3.10/site-packages (from requests<3.0.0,>=2.28.1->quickchart.io) (3.4)\n",
      "Installing collected packages: quickchart.io\n",
      "Successfully installed quickchart.io-2.0.0\n",
      "Note: you may need to restart the kernel to use updated packages.\n"
     ]
    }
   ],
   "source": [
    "!pip install quickchart.io"
   ]
  },
  {
   "cell_type": "code",
   "execution_count": 2,
   "metadata": {},
   "outputs": [],
   "source": [
    "from quickchart import QuickChart\n",
    "from PIL import Image\n",
    "import requests\n",
    "from io import BytesIO\n",
    "import matplotlib.pyplot as plt\n",
    "from pymongo import MongoClient"
   ]
  },
  {
   "cell_type": "code",
   "execution_count": 3,
   "metadata": {},
   "outputs": [],
   "source": [
    "#Connect with MongoDB\n",
    "#Note Replace <password> with the password for the sampledb user. Replace <your_collection_name> with the name of your collection.\n",
    "url = \"mongodb+srv://sampledb:<password>@cluster0.hb4ewib.mongodb.net/\"\n",
    "\n",
    "# Connect to MongoDB\n",
    "client = MongoClient(url)\n",
    "\n",
    "# Access a specific database\n",
    "database = client.sample_weatherdata\n",
    "\n",
    "# Access a specific collection\n",
    "collection = database['<your_collection_name>']\n"
   ]
  },
  {
   "cell_type": "code",
   "execution_count": 74,
   "metadata": {},
   "outputs": [],
   "source": [
    "# Retrieve all weather data\n",
    "#documents = collection.find()\n",
    "# For 100 documents\n",
    "documents = collection.find().limit(100)"
   ]
  },
  {
   "cell_type": "code",
   "execution_count": 75,
   "metadata": {},
   "outputs": [],
   "source": [
    "# Initialize empty lists for data extraction\n",
    "temperatures = []\n",
    "pressures = []\n",
    "wind_speeds = []"
   ]
  },
  {
   "cell_type": "code",
   "execution_count": 76,
   "metadata": {},
   "outputs": [],
   "source": [
    "# Extract relevant weather data fields\n",
    "for document in documents:\n",
    "    temperatures.append(document['airTemperature']['value'])\n",
    "    pressures.append(document['pressure']['value'])\n",
    "    wind_speeds.append(document['wind']['speed']['rate'])\n"
   ]
  },
  {
   "cell_type": "code",
   "execution_count": 77,
   "metadata": {},
   "outputs": [
    {
     "name": "stdout",
     "output_type": "stream",
     "text": [
      "Temperatures:  [-3.1, -4.7, 4.4, 7.5, 0.4, 3.1, -26.7, -5.1, 6.3, 6.6, 2.0, 7.1, 999.9, -4.5, 17.2, 0.9, 5.4, 4.8, 17.0, 999.9, 999.9, 6.7, 4.8, 26.2, 20.7, 2.2, 25.0, 3.1, -4.1, 25.6, -7.0, 25.0, 27.8, 25.5, 19.4, -4.8, 29.0, 22.8, 6.0, 999.9, 5.5, 21.8, 7.5, 24.0, -1.0, 25.5, 27.2, 26.0, 25.8, 26.6, 23.0, 24.2, 20.7, 14.8, 4.0, 18.0, 3.3, 15.0, 6.3, 7.0, 25.3, 26.2, 28.0, 23.0, 17.2, 44.4, 25.1, 11.0, 20.3, 22.2, 11.2, 16.0, 27.0, 16.0, 11.2, 28.6, 22.4, -4.0, 12.5, 32.0, 28.0, 26.0, 20.6, 27.5, 23.5, 26.0, 20.0, 27.0, 19.2, 16.6, 19.1, 18.0, 9.8, 14.8, 11.7, 18.8, 1.0, 12.5, 15.6, 14.4]\n",
      "Pressures:  [1015.3, 1025.9, 1030.8, 1018.5, 1003.6, 1019.0, 1016.6, 1020.8, 1026.1, 1033.4, 999.3, 1028.2, 1032.6, 1024.6, 1009.1, 1002.8, 1032.9, 1032.6, 1017.2, 9999.9, 9999.9, 1032.0, 1007.2, 1016.2, 1020.4, 1025.5, 1013.4, 1018.3, 1014.2, 1009.9, 1019.1, 1010.7, 1010.3, 1012.0, 1018.2, 1008.7, 1009.3, 1013.4, 1015.8, 1017.9, 1026.5, 1013.8, 1017.5, 1009.7, 978.3, 1007.4, 1009.1, 1009.0, 1008.0, 1016.0, 1018.8, 1018.4, 1011.7, 1008.5, 1013.4, 1029.2, 1010.3, 1011.4, 1031.9, 1026.7, 1006.4, 1007.9, 1017.6, 1018.1, 1019.0, 1024.0, 1017.9, 1021.0, 1011.8, 1010.1, 1010.0, 1018.4, 1014.1, 1020.0, 1031.9, 1003.9, 1016.3, 1006.7, 1006.0, 1011.0, 1010.1, 1014.0, 1011.1, 1012.9, 1017.4, 1023.4, 1015.6, 1011.4, 1011.9, 1013.6, 1020.0, 1018.5, 1005.0, 1007.8, 1017.8, 1014.3, 1024.2, 1028.0, 1015.9, 1019.8]\n",
      "Wind speeds:  [999.9, 999.9, 1.0, 12.3, 6.7, 15.4, 10.0, 3.1, 9.3, 6.2, 12.3, 4.1, 7.2, 11.3, 2.1, 11.0, 1.5, 0.5, 10.0, 7.7, 3.6, 7.2, 19.0, 9.8, 9.0, 5.1, 999.9, 5.7, 7.0, 4.6, 999.9, 7.7, 3.0, 7.7, 4.6, 999.9, 8.0, 13.4, 8.2, 10.0, 5.1, 10.8, 6.7, 6.0, 6.0, 4.6, 30.8, 5.7, 7.2, 8.2, 3.1, 13.0, 2.0, 12.0, 6.0, 999.9, 10.0, 17.0, 1.0, 9.8, 4.6, 6.2, 9.0, 4.1, 6.7, 3.1, 3.0, 2.1, 6.2, 6.2, 5.1, 3.0, 3.0, 5.1, 5.0, 11.3, 5.0, 0.0, 999.9, 3.1, 5.1, 8.0, 8.0, 6.2, 2.6, 15.0, 6.7, 8.7, 3.1, 6.2, 999.9, 8.2, 9.3, 8.7, 11.3, 4.0, 4.1, 5.1, 13.9, 5.1]\n"
     ]
    }
   ],
   "source": [
    "print(\"Temperatures: \", temperatures)\n",
    "print(\"Pressures: \", pressures)\n",
    "print(\"Wind speeds: \", wind_speeds)"
   ]
  },
  {
   "cell_type": "code",
   "execution_count": 81,
   "metadata": {},
   "outputs": [],
   "source": [
    "# Define your chart data configuration\n",
    "qc = QuickChart()\n",
    "qc.height = 500\n",
    "qc.width = 500\n",
    "qc.config = {\n",
    "    'type': 'line',\n",
    "    'data': {\n",
    "        'labels': ['Temperature', 'Pressure', 'Wind Speed'],\n",
    "        'datasets': [\n",
    "            {\n",
    "                'label': 'Temperature',\n",
    "                'data': temperatures,\n",
    "                'backgroundColor': 'rgb(54, 162, 235)'\n",
    "            },\n",
    "            {\n",
    "                'label': 'Pressure',\n",
    "                'data': pressures,\n",
    "                'backgroundColor': 'rgb(75, 192, 192)'\n",
    "            },\n",
    "            {\n",
    "                'label': 'Wind Speed',\n",
    "                'data': wind_speeds,\n",
    "                'backgroundColor': 'rgb(255, 205, 86)'\n",
    "            }\n",
    "        ]\n",
    "    },\n",
    "    'options': {\n",
    "        'scales': {\n",
    "            'y': {\n",
    "                'beginAtZero': True\n",
    "            },\n",
    "            'x': {\n",
    "                'beginAtZero': True\n",
    "            }\n",
    "        }\n",
    "    }\n",
    "}"
   ]
  },
  {
   "cell_type": "code",
   "execution_count": 82,
   "metadata": {},
   "outputs": [
    {
     "name": "stdout",
     "output_type": "stream",
     "text": [
      "https://quickchart.io/chart/render/sf-e2c9992a-0a4b-4636-a31f-91d0f8328749\n"
     ]
    }
   ],
   "source": [
    "# print the chart url\n",
    "print(qc.get_short_url())"
   ]
  },
  {
   "cell_type": "code",
   "execution_count": 83,
   "metadata": {},
   "outputs": [
    {
     "data": {
      "image/png": "[encoded data removed]",
      "text/plain": [
       "<Figure size 640x480 with 1 Axes>"
      ]
     },
     "metadata": {},
     "output_type": "display_data"
    }
   ],
   "source": [
    "# Or show the chart in this notebook\n",
    "# Send a GET request to the image URL and retrieve the image\n",
    "response = requests.get(qc.get_short_url())\n",
    "image = Image.open(BytesIO(response.content))\n",
    "\n",
    "# Display the image\n",
    "plt.imshow(image)\n",
    "plt.axis('off')\n",
    "plt.show()"
   ]
  }
 ],
 "metadata": {
  "kernelspec": {
   "display_name": "base",
   "language": "python",
   "name": "python3"
  },
  "language_info": {
   "codemirror_mode": {
    "name": "ipython",
    "version": 3
   },
   "file_extension": ".py",
   "mimetype": "text/x-python",
   "name": "python",
   "nbconvert_exporter": "python",
   "pygments_lexer": "ipython3",
   "version": "3.10.9"
  },
  "orig_nbformat": 4
 },
 "nbformat": 4,
 "nbformat_minor": 2
}
