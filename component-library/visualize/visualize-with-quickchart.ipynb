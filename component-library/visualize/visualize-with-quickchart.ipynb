{
 "cells": [
  {
   "attachments": {},
   "cell_type": "markdown",
   "metadata": {},
   "source": [
    "#### Visualize data on quick-chart\n",
    "This notebook uses the [quickchart](https://quickchart.io/) library to visualize data\n",
    "- one example for random data\n",
    "- second example for visualizing data from mongodb"
   ]
  },
  {
   "cell_type": "code",
   "execution_count": 6,
   "metadata": {},
   "outputs": [
    {
     "name": "stdout",
     "output_type": "stream",
     "text": [
      "Collecting quickchart.io\n",
      "  Downloading quickchart_io-2.0.0-py3-none-any.whl (5.1 kB)\n",
      "Requirement already satisfied: requests<3.0.0,>=2.28.1 in /Users/rafflesiakhan/anaconda3/lib/python3.10/site-packages (from quickchart.io) (2.29.0)\n",
      "Requirement already satisfied: charset-normalizer<4,>=2 in /Users/rafflesiakhan/anaconda3/lib/python3.10/site-packages (from requests<3.0.0,>=2.28.1->quickchart.io) (2.0.4)\n",
      "Requirement already satisfied: certifi>=2017.4.17 in /Users/rafflesiakhan/anaconda3/lib/python3.10/site-packages (from requests<3.0.0,>=2.28.1->quickchart.io) (2023.5.7)\n",
      "Requirement already satisfied: urllib3<1.27,>=1.21.1 in /Users/rafflesiakhan/anaconda3/lib/python3.10/site-packages (from requests<3.0.0,>=2.28.1->quickchart.io) (1.26.14)\n",
      "Requirement already satisfied: idna<4,>=2.5 in /Users/rafflesiakhan/anaconda3/lib/python3.10/site-packages (from requests<3.0.0,>=2.28.1->quickchart.io) (3.4)\n",
      "Installing collected packages: quickchart.io\n",
      "Successfully installed quickchart.io-2.0.0\n",
      "Note: you may need to restart the kernel to use updated packages.\n"
     ]
    }
   ],
   "source": [
    "!pip install quickchart.io"
   ]
  },
  {
   "cell_type": "code",
   "execution_count": 4,
   "metadata": {},
   "outputs": [],
   "source": [
    "from quickchart import QuickChart\n",
    "from PIL import Image\n",
    "import requests\n",
    "from io import BytesIO\n",
    "import matplotlib.pyplot as plt"
   ]
  },
  {
   "cell_type": "code",
   "execution_count": 2,
   "metadata": {},
   "outputs": [],
   "source": [
    "# Define your chart data configuration\n",
    "qc = QuickChart()\n",
    "qc.height = 500\n",
    "qc.width = 500\n",
    "qc.config = {\n",
    "    \"type\": \"bar\",\n",
    "    \"data\": {\n",
    "        \"labels\": [\"Sample A\", \"Sample B\"],\n",
    "        \"datasets\": [{\n",
    "            \"label\": \"Sample Bar Chart\",\n",
    "            \"data\": [1, 2]\n",
    "        }]\n",
    "    }\n",
    "}"
   ]
  },
  {
   "cell_type": "code",
   "execution_count": 5,
   "metadata": {},
   "outputs": [
    {
     "name": "stdout",
     "output_type": "stream",
     "text": [
      "https://quickchart.io/chart/render/sf-670da1c5-48e0-4968-9160-685585594aec\n"
     ]
    }
   ],
   "source": [
    "# print the chart url\n",
    "print(qc.get_short_url())"
   ]
  },
  {
   "cell_type": "code",
   "execution_count": 6,
   "metadata": {},
   "outputs": [
    {
     "data": {
      "image/png": "[encoded data removed]",
      "text/plain": [
       "<Figure size 640x480 with 1 Axes>"
      ]
     },
     "metadata": {},
     "output_type": "display_data"
    }
   ],
   "source": [
    "# Or show the chart in this notebook\n",
    "# Send a GET request to the image URL and retrieve the image\n",
    "response = requests.get(qc.get_short_url())\n",
    "image = Image.open(BytesIO(response.content))\n",
    "\n",
    "# Display the image\n",
    "plt.imshow(image)\n",
    "plt.axis('off')\n",
    "plt.show()"
   ]
  }
 ],
 "metadata": {
  "kernelspec": {
   "display_name": "base",
   "language": "python",
   "name": "python3"
  },
  "language_info": {
   "codemirror_mode": {
    "name": "ipython",
    "version": 3
   },
   "file_extension": ".py",
   "mimetype": "text/x-python",
   "name": "python",
   "nbconvert_exporter": "python",
   "pygments_lexer": "ipython3",
   "version": "3.10.9"
  },
  "orig_nbformat": 4
 },
 "nbformat": 4,
 "nbformat_minor": 2
}
