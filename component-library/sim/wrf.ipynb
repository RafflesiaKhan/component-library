{
 "cells": [
  {
   "cell_type": "code",
   "execution_count": null,
   "id": "57ab222c-9f77-495a-8f5a-080138c58f34",
   "metadata": {},
   "outputs": [],
   "source": [
    "#! /bin/sh\n",
    "ls\n",
    "docker   run   -it   --name   teachme   7cf57e8f908b   /bin/tcsh\n",
    "ls -ls\n",
    "cd WRF\n",
    "./clean -a\n",
    "./configure\n",
    "./compile em_real >&! foo\n",
    "ls -ls main/*.exe\n",
    "cd ../WPS\n",
    "./configure\n",
    "./compile >&! foo\n",
    "ls -ls *.exe\n",
    "cp namelist.wps namelist.wps.original\n",
    "cp /wrf/wrfinput/namelist.wps.docker namelist.wps\n",
    "./geogrid.exe\n",
    "ls -ls geo_em.d01.nc\n",
    "./link_grib.csh /wrf/wrfinput/fnl\n",
    "cp ungrib/Variable_Tables/Vtable.GFS Vtable\n",
    "./ungrib.exe\n",
    "ls -ls FILE*\n",
    "./metgrid.exe\n",
    "ls -ls met_em.*\n",
    "cd ../WRF/test/em_real\n",
    "ln -sf ../../../WPS/met_em* .\n",
    "cp namelist.input namelist.input.original\n",
    "cp /wrf/wrfinput/namelist.input.docker namelist.input\n",
    "mpirun -np 2 ./real.exe\n",
    "tail rsl.out.0000\n",
    "ls -ls wrfinput_d01 wrfbdy_d01\n",
    "mpirun -np 3 ./wrf.exe &\n",
    "tail rsl.out.0000\n",
    "ls -ls wrfo*"
   ]
  }
 ],
 "metadata": {
  "kernelspec": {
   "display_name": "Python 3 (ipykernel)",
   "language": "python",
   "name": "python3"
  },
  "language_info": {
   "codemirror_mode": {
    "name": "ipython",
    "version": 3
   },
   "file_extension": ".py",
   "mimetype": "text/x-python",
   "name": "python",
   "nbconvert_exporter": "python",
   "pygments_lexer": "ipython3",
   "version": "3.9.13"
  }
 },
 "nbformat": 4,
 "nbformat_minor": 5
}
